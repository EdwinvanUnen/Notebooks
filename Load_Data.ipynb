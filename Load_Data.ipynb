{
 "cells": [
  {
   "cell_type": "markdown",
   "metadata": {},
   "source": [
    "### Diverse load statements"
   ]
  },
  {
   "cell_type": "markdown",
   "metadata": {},
   "source": [
    "### Import packages"
   ]
  },
  {
   "cell_type": "code",
   "execution_count": 1,
   "metadata": {
    "scrolled": true
   },
   "outputs": [],
   "source": [
    "from swat import *\n",
    "import swat.cas.datamsghandlers as dmh\n",
    "from pprint import pprint\n",
    "from matplotlib import pyplot as plt\n",
    "import pandas as pd\n",
    "from swat.render import render_html\n",
    "%matplotlib inline\n",
    "from IPython.core.interactiveshell import InteractiveShell\n",
    "InteractiveShell.ast_node_interactivity = \"all\""
   ]
  },
  {
   "cell_type": "markdown",
   "metadata": {},
   "source": [
    "### CAS Server connection details"
   ]
  },
  {
   "cell_type": "code",
   "execution_count": 2,
   "metadata": {
    "collapsed": true
   },
   "outputs": [],
   "source": [
    "cashost='eeclxvm128b.unx.sas.com'\n",
    "casport=5570\n",
    "casauth='~/.authinfo'\n",
    "indata_dir=\"/home/sasdemo/data\"\n",
    "indata=\"dm_quality_printer_band\""
   ]
  },
  {
   "cell_type": "markdown",
   "metadata": {},
   "source": [
    "### Start CAS session"
   ]
  },
  {
   "cell_type": "code",
   "execution_count": 3,
   "metadata": {},
   "outputs": [],
   "source": [
    "sess = CAS(cashost, casport, authinfo=\"~/.authinfo\", caslib=\"casuser\")"
   ]
  },
  {
   "cell_type": "markdown",
   "metadata": {},
   "source": [
    "### Load Action Sets"
   ]
  },
  {
   "cell_type": "code",
   "execution_count": 4,
   "metadata": {},
   "outputs": [
    {
     "name": "stdout",
     "output_type": "stream",
     "text": [
      "NOTE: Added action set 'table'.\n"
     ]
    },
    {
     "data": {
      "text/html": [
       "<div class=\"cas-results-key\"><b>&#167; actionset</b></div>\n",
       "<div class=\"cas-results-body\">\n",
       "<div>table</div>\n",
       "</div>\n",
       "<div class=\"cas-output-area\"></div>\n",
       "<p class=\"cas-results-performance\"><small><span class=\"cas-elapsed\">elapsed 0.00145s</span> &#183; <span class=\"cas-user\">user 0.001s</span> &#183; <span class=\"cas-memory\">mem 0.0448MB</span></small></p>"
      ],
      "text/plain": [
       "[actionset]\n",
       "\n",
       " 'table'\n",
       "\n",
       "+ Elapsed: 0.00145s, user: 0.001s, mem: 0.0448mb"
      ]
     },
     "execution_count": 4,
     "metadata": {},
     "output_type": "execute_result"
    }
   ],
   "source": [
    "sess.loadactionset(actionset=\"table\")"
   ]
  },
  {
   "cell_type": "markdown",
   "metadata": {},
   "source": [
    "### Load EXCEL data into CAS"
   ]
  },
  {
   "cell_type": "code",
   "execution_count": 5,
   "metadata": {},
   "outputs": [
    {
     "name": "stdout",
     "output_type": "stream",
     "text": [
      "NOTE: Cloud Analytic Services made the uploaded file available as table DM_QUALITY_PRINTER_BAND in caslib CASUSER(sasdemo).\n",
      "NOTE: The table DM_QUALITY_PRINTER_BAND has been created in caslib CASUSER(sasdemo) from binary data uploaded to Cloud Analytic Services.\n"
     ]
    }
   ],
   "source": [
    "if not sess.table.tableExists(table=indata).exists:\n",
    "    tbl = sess.upload_file(indata_dir+\"/\"+indata+\".xlsx\", casout={\"name\":indata})"
   ]
  },
  {
   "cell_type": "markdown",
   "metadata": {},
   "source": [
    "#### View first 5 observations from the data set"
   ]
  },
  {
   "cell_type": "code",
   "execution_count": 6,
   "metadata": {
    "scrolled": true
   },
   "outputs": [
    {
     "data": {
      "text/html": [
       "<div class=\"cas-results-key\"><b>&#167; Fetch</b></div>\n",
       "<div class=\"cas-results-body\">\n",
       "<div>\n",
       "<table border=\"1\" class=\"dataframe\"><caption>Selected Rows from Table DM_QUALITY_PRINTER_BAND</caption>\n",
       "  <thead>\n",
       "    <tr style=\"text-align: right;\">\n",
       "      <th title=\"\"></th>\n",
       "      <th title=\"TIMESTMP\">TIMESTMP</th>\n",
       "      <th title=\"CYLINDER\">CYLINDER</th>\n",
       "      <th title=\"CUSTOMER\">CUSTOMER</th>\n",
       "      <th title=\"JOBNUMB\">JOBNUMB</th>\n",
       "      <th title=\"GRAINSCR\">GRAINSCR</th>\n",
       "      <th title=\"INKCOLOR\">INKCOLOR</th>\n",
       "      <th title=\"PROOFCTD\">PROOFCTD</th>\n",
       "      <th title=\"BLADEMFG\">BLADEMFG</th>\n",
       "      <th title=\"CYLINDIV\">CYLINDIV</th>\n",
       "      <th title=\"PAPERTYP\">PAPERTYP</th>\n",
       "      <th title=\"...\">...</th>\n",
       "      <th title=\"ESAVOLT\">ESAVOLT</th>\n",
       "      <th title=\"ESAAMP\">ESAAMP</th>\n",
       "      <th title=\"WAX\">WAX</th>\n",
       "      <th title=\"HARDENER\">HARDENER</th>\n",
       "      <th title=\"ROLLERDU\">ROLLERDU</th>\n",
       "      <th title=\"CURRDENS\">CURRDENS</th>\n",
       "      <th title=\"ANODESPC\">ANODESPC</th>\n",
       "      <th title=\"CHROMECO\">CHROMECO</th>\n",
       "      <th title=\"BANDTYPE\">BANDTYPE</th>\n",
       "      <th title=\"target\">target</th>\n",
       "    </tr>\n",
       "  </thead>\n",
       "  <tbody>\n",
       "    <tr>\n",
       "      <th>0</th>\n",
       "      <td>11330.0</td>\n",
       "      <td>X126</td>\n",
       "      <td>TVGUIDE</td>\n",
       "      <td>25503.0</td>\n",
       "      <td>YES</td>\n",
       "      <td>KEY</td>\n",
       "      <td>YES</td>\n",
       "      <td>BENTON</td>\n",
       "      <td>GALLATIN</td>\n",
       "      <td>UNCOATED</td>\n",
       "      <td>...</td>\n",
       "      <td>0.0</td>\n",
       "      <td>0.0</td>\n",
       "      <td>2.5</td>\n",
       "      <td>1.0</td>\n",
       "      <td>34.0</td>\n",
       "      <td>40.0</td>\n",
       "      <td>105.00</td>\n",
       "      <td>100.0</td>\n",
       "      <td>band</td>\n",
       "      <td>1.0</td>\n",
       "    </tr>\n",
       "    <tr>\n",
       "      <th>1</th>\n",
       "      <td>11331.0</td>\n",
       "      <td>X266</td>\n",
       "      <td>TVGUIDE</td>\n",
       "      <td>25503.0</td>\n",
       "      <td>YES</td>\n",
       "      <td>KEY</td>\n",
       "      <td>YES</td>\n",
       "      <td>BENTON</td>\n",
       "      <td>GALLATIN</td>\n",
       "      <td>UNCOATED</td>\n",
       "      <td>...</td>\n",
       "      <td>0.0</td>\n",
       "      <td>0.0</td>\n",
       "      <td>2.5</td>\n",
       "      <td>0.7</td>\n",
       "      <td>34.0</td>\n",
       "      <td>40.0</td>\n",
       "      <td>105.00</td>\n",
       "      <td>100.0</td>\n",
       "      <td>noband</td>\n",
       "      <td>0.0</td>\n",
       "    </tr>\n",
       "    <tr>\n",
       "      <th>2</th>\n",
       "      <td>11326.0</td>\n",
       "      <td>B7</td>\n",
       "      <td>MODMAT</td>\n",
       "      <td>47201.0</td>\n",
       "      <td>YES</td>\n",
       "      <td>KEY</td>\n",
       "      <td>YES</td>\n",
       "      <td>BENTON</td>\n",
       "      <td>GALLATIN</td>\n",
       "      <td>UNCOATED</td>\n",
       "      <td>...</td>\n",
       "      <td>0.0</td>\n",
       "      <td>0.0</td>\n",
       "      <td>2.8</td>\n",
       "      <td>0.9</td>\n",
       "      <td>40.0</td>\n",
       "      <td>40.0</td>\n",
       "      <td>103.87</td>\n",
       "      <td>100.0</td>\n",
       "      <td>noband</td>\n",
       "      <td>0.0</td>\n",
       "    </tr>\n",
       "    <tr>\n",
       "      <th>3</th>\n",
       "      <td>11326.0</td>\n",
       "      <td>T133</td>\n",
       "      <td>MASSEY</td>\n",
       "      <td>39039.0</td>\n",
       "      <td>YES</td>\n",
       "      <td>KEY</td>\n",
       "      <td>YES</td>\n",
       "      <td>BENTON</td>\n",
       "      <td>GALLATIN</td>\n",
       "      <td>UNCOATED</td>\n",
       "      <td>...</td>\n",
       "      <td>0.0</td>\n",
       "      <td>0.0</td>\n",
       "      <td>2.5</td>\n",
       "      <td>1.3</td>\n",
       "      <td>40.0</td>\n",
       "      <td>40.0</td>\n",
       "      <td>108.06</td>\n",
       "      <td>100.0</td>\n",
       "      <td>noband</td>\n",
       "      <td>0.0</td>\n",
       "    </tr>\n",
       "    <tr>\n",
       "      <th>4</th>\n",
       "      <td>11333.0</td>\n",
       "      <td>J34</td>\n",
       "      <td>KMART</td>\n",
       "      <td>37351.0</td>\n",
       "      <td>NO</td>\n",
       "      <td>KEY</td>\n",
       "      <td>YES</td>\n",
       "      <td>BENTON</td>\n",
       "      <td>GALLATIN</td>\n",
       "      <td>UNCOATED</td>\n",
       "      <td>...</td>\n",
       "      <td>5.0</td>\n",
       "      <td>0.0</td>\n",
       "      <td>2.3</td>\n",
       "      <td>0.6</td>\n",
       "      <td>35.0</td>\n",
       "      <td>40.0</td>\n",
       "      <td>106.67</td>\n",
       "      <td>100.0</td>\n",
       "      <td>noband</td>\n",
       "      <td>0.0</td>\n",
       "    </tr>\n",
       "  </tbody>\n",
       "</table>\n",
       "<p>5 rows × 41 columns</p>\n",
       "</div>\n",
       "</div>\n",
       "<div class=\"cas-output-area\"></div>\n",
       "<p class=\"cas-results-performance\"><small><span class=\"cas-elapsed\">elapsed 0.00182s</span> &#183; <span class=\"cas-user\">user 0.002s</span> &#183; <span class=\"cas-memory\">mem 0.584MB</span></small></p>"
      ],
      "text/plain": [
       "[Fetch]\n",
       "\n",
       " Selected Rows from Table DM_QUALITY_PRINTER_BAND\n",
       " \n",
       "    TIMESTMP CYLINDER CUSTOMER  JOBNUMB GRAINSCR INKCOLOR PROOFCTD BLADEMFG  \\\n",
       " 0   11330.0     X126  TVGUIDE  25503.0      YES      KEY      YES   BENTON   \n",
       " 1   11331.0     X266  TVGUIDE  25503.0      YES      KEY      YES   BENTON   \n",
       " 2   11326.0       B7   MODMAT  47201.0      YES      KEY      YES   BENTON   \n",
       " 3   11326.0     T133   MASSEY  39039.0      YES      KEY      YES   BENTON   \n",
       " 4   11333.0      J34    KMART  37351.0       NO      KEY      YES   BENTON   \n",
       " \n",
       "    CYLINDIV  PAPERTYP   ...   ESAVOLT ESAAMP  WAX HARDENER ROLLERDU  CURRDENS  \\\n",
       " 0  GALLATIN  UNCOATED   ...       0.0    0.0  2.5      1.0     34.0      40.0   \n",
       " 1  GALLATIN  UNCOATED   ...       0.0    0.0  2.5      0.7     34.0      40.0   \n",
       " 2  GALLATIN  UNCOATED   ...       0.0    0.0  2.8      0.9     40.0      40.0   \n",
       " 3  GALLATIN  UNCOATED   ...       0.0    0.0  2.5      1.3     40.0      40.0   \n",
       " 4  GALLATIN  UNCOATED   ...       5.0    0.0  2.3      0.6     35.0      40.0   \n",
       " \n",
       "    ANODESPC CHROMECO BANDTYPE  target  \n",
       " 0    105.00    100.0     band     1.0  \n",
       " 1    105.00    100.0   noband     0.0  \n",
       " 2    103.87    100.0   noband     0.0  \n",
       " 3    108.06    100.0   noband     0.0  \n",
       " 4    106.67    100.0   noband     0.0  \n",
       " \n",
       " [5 rows x 41 columns]\n",
       "\n",
       "+ Elapsed: 0.00182s, user: 0.002s, mem: 0.584mb"
      ]
     },
     "execution_count": 6,
     "metadata": {},
     "output_type": "execute_result"
    }
   ],
   "source": [
    "sess.fetch(table=indata, to=5)"
   ]
  },
  {
   "cell_type": "code",
   "execution_count": 7,
   "metadata": {},
   "outputs": [
    {
     "name": "stdout",
     "output_type": "stream",
     "text": [
      "NOTE: Cloud Analytic Services dropped table dm_quality_printer_band from caslib CASUSER(sasdemo).\n"
     ]
    },
    {
     "data": {
      "text/html": [
       "<div class=\"cas-output-area\"></div>\n",
       "<p class=\"cas-results-performance\"><small><span class=\"cas-elapsed\">elapsed 0.000391s</span> &#183; <span class=\"cas-memory\">mem 0.0336MB</span></small></p>"
      ],
      "text/plain": [
       "+ Elapsed: 0.000391s, mem: 0.0336mb"
      ]
     },
     "execution_count": 7,
     "metadata": {},
     "output_type": "execute_result"
    }
   ],
   "source": [
    "sess.table.dropTable(table=indata)"
   ]
  },
  {
   "cell_type": "markdown",
   "metadata": {},
   "source": [
    "### Load data from CouchDB"
   ]
  },
  {
   "cell_type": "code",
   "execution_count": 9,
   "metadata": {},
   "outputs": [
    {
     "data": {
      "text/plain": [
       "['dm_quality_printer_band']"
      ]
     },
     "execution_count": 9,
     "metadata": {},
     "output_type": "execute_result"
    },
    {
     "data": {
      "text/html": [
       "<div>\n",
       "<table border=\"1\" class=\"dataframe\">\n",
       "  <thead>\n",
       "    <tr style=\"text-align: right;\">\n",
       "      <th></th>\n",
       "      <th>TIMESTMP</th>\n",
       "      <th>CYLINDER</th>\n",
       "      <th>CUSTOMER</th>\n",
       "      <th>JOBNUMB</th>\n",
       "      <th>GRAINSCR</th>\n",
       "      <th>INKCOLOR</th>\n",
       "      <th>PROOFCTD</th>\n",
       "      <th>BLADEMFG</th>\n",
       "      <th>CYLINDIV</th>\n",
       "      <th>PAPERTYP</th>\n",
       "      <th>...</th>\n",
       "      <th>ESAVOLT</th>\n",
       "      <th>ESAAMP</th>\n",
       "      <th>WAX</th>\n",
       "      <th>HARDENER</th>\n",
       "      <th>ROLLERDU</th>\n",
       "      <th>CURRDENS</th>\n",
       "      <th>ANODESPC</th>\n",
       "      <th>CHROMECO</th>\n",
       "      <th>BANDTYPE</th>\n",
       "      <th>target</th>\n",
       "    </tr>\n",
       "  </thead>\n",
       "  <tbody>\n",
       "    <tr>\n",
       "      <th>0</th>\n",
       "      <td>1991-01-08</td>\n",
       "      <td>X126</td>\n",
       "      <td>TVGUIDE</td>\n",
       "      <td>25503.0</td>\n",
       "      <td>YES</td>\n",
       "      <td>KEY</td>\n",
       "      <td>YES</td>\n",
       "      <td>BENTON</td>\n",
       "      <td>GALLATIN</td>\n",
       "      <td>UNCOATED</td>\n",
       "      <td>...</td>\n",
       "      <td>0.0</td>\n",
       "      <td>0.0</td>\n",
       "      <td>2.5</td>\n",
       "      <td>1.0</td>\n",
       "      <td>34.0</td>\n",
       "      <td>40.0</td>\n",
       "      <td>105.00</td>\n",
       "      <td>100.0</td>\n",
       "      <td>band</td>\n",
       "      <td>1</td>\n",
       "    </tr>\n",
       "    <tr>\n",
       "      <th>1</th>\n",
       "      <td>1991-01-09</td>\n",
       "      <td>X266</td>\n",
       "      <td>TVGUIDE</td>\n",
       "      <td>25503.0</td>\n",
       "      <td>YES</td>\n",
       "      <td>KEY</td>\n",
       "      <td>YES</td>\n",
       "      <td>BENTON</td>\n",
       "      <td>GALLATIN</td>\n",
       "      <td>UNCOATED</td>\n",
       "      <td>...</td>\n",
       "      <td>0.0</td>\n",
       "      <td>0.0</td>\n",
       "      <td>2.5</td>\n",
       "      <td>0.7</td>\n",
       "      <td>34.0</td>\n",
       "      <td>40.0</td>\n",
       "      <td>105.00</td>\n",
       "      <td>100.0</td>\n",
       "      <td>noband</td>\n",
       "      <td>0</td>\n",
       "    </tr>\n",
       "    <tr>\n",
       "      <th>2</th>\n",
       "      <td>1991-01-04</td>\n",
       "      <td>B7</td>\n",
       "      <td>MODMAT</td>\n",
       "      <td>47201.0</td>\n",
       "      <td>YES</td>\n",
       "      <td>KEY</td>\n",
       "      <td>YES</td>\n",
       "      <td>BENTON</td>\n",
       "      <td>GALLATIN</td>\n",
       "      <td>UNCOATED</td>\n",
       "      <td>...</td>\n",
       "      <td>0.0</td>\n",
       "      <td>0.0</td>\n",
       "      <td>2.8</td>\n",
       "      <td>0.9</td>\n",
       "      <td>40.0</td>\n",
       "      <td>40.0</td>\n",
       "      <td>103.87</td>\n",
       "      <td>100.0</td>\n",
       "      <td>noband</td>\n",
       "      <td>0</td>\n",
       "    </tr>\n",
       "    <tr>\n",
       "      <th>3</th>\n",
       "      <td>1991-01-04</td>\n",
       "      <td>T133</td>\n",
       "      <td>MASSEY</td>\n",
       "      <td>39039.0</td>\n",
       "      <td>YES</td>\n",
       "      <td>KEY</td>\n",
       "      <td>YES</td>\n",
       "      <td>BENTON</td>\n",
       "      <td>GALLATIN</td>\n",
       "      <td>UNCOATED</td>\n",
       "      <td>...</td>\n",
       "      <td>0.0</td>\n",
       "      <td>0.0</td>\n",
       "      <td>2.5</td>\n",
       "      <td>1.3</td>\n",
       "      <td>40.0</td>\n",
       "      <td>40.0</td>\n",
       "      <td>108.06</td>\n",
       "      <td>100.0</td>\n",
       "      <td>noband</td>\n",
       "      <td>0</td>\n",
       "    </tr>\n",
       "    <tr>\n",
       "      <th>4</th>\n",
       "      <td>1991-01-11</td>\n",
       "      <td>J34</td>\n",
       "      <td>KMART</td>\n",
       "      <td>37351.0</td>\n",
       "      <td>NO</td>\n",
       "      <td>KEY</td>\n",
       "      <td>YES</td>\n",
       "      <td>BENTON</td>\n",
       "      <td>GALLATIN</td>\n",
       "      <td>UNCOATED</td>\n",
       "      <td>...</td>\n",
       "      <td>5.0</td>\n",
       "      <td>0.0</td>\n",
       "      <td>2.3</td>\n",
       "      <td>0.6</td>\n",
       "      <td>35.0</td>\n",
       "      <td>40.0</td>\n",
       "      <td>106.67</td>\n",
       "      <td>100.0</td>\n",
       "      <td>noband</td>\n",
       "      <td>0</td>\n",
       "    </tr>\n",
       "  </tbody>\n",
       "</table>\n",
       "<p>5 rows × 41 columns</p>\n",
       "</div>"
      ],
      "text/plain": [
       "    TIMESTMP CYLINDER CUSTOMER  JOBNUMB GRAINSCR INKCOLOR PROOFCTD BLADEMFG  \\\n",
       "0 1991-01-08     X126  TVGUIDE  25503.0      YES      KEY      YES   BENTON   \n",
       "1 1991-01-09     X266  TVGUIDE  25503.0      YES      KEY      YES   BENTON   \n",
       "2 1991-01-04       B7   MODMAT  47201.0      YES      KEY      YES   BENTON   \n",
       "3 1991-01-04     T133   MASSEY  39039.0      YES      KEY      YES   BENTON   \n",
       "4 1991-01-11      J34    KMART  37351.0       NO      KEY      YES   BENTON   \n",
       "\n",
       "   CYLINDIV  PAPERTYP   ...   ESAVOLT ESAAMP  WAX HARDENER ROLLERDU  CURRDENS  \\\n",
       "0  GALLATIN  UNCOATED   ...       0.0    0.0  2.5      1.0     34.0      40.0   \n",
       "1  GALLATIN  UNCOATED   ...       0.0    0.0  2.5      0.7     34.0      40.0   \n",
       "2  GALLATIN  UNCOATED   ...       0.0    0.0  2.8      0.9     40.0      40.0   \n",
       "3  GALLATIN  UNCOATED   ...       0.0    0.0  2.5      1.3     40.0      40.0   \n",
       "4  GALLATIN  UNCOATED   ...       5.0    0.0  2.3      0.6     35.0      40.0   \n",
       "\n",
       "   ANODESPC CHROMECO BANDTYPE  target  \n",
       "0    105.00    100.0     band       1  \n",
       "1    105.00    100.0   noband       0  \n",
       "2    103.87    100.0   noband       0  \n",
       "3    108.06    100.0   noband       0  \n",
       "4    106.67    100.0   noband       0  \n",
       "\n",
       "[5 rows x 41 columns]"
      ]
     },
     "execution_count": 9,
     "metadata": {},
     "output_type": "execute_result"
    },
    {
     "name": "stdout",
     "output_type": "stream",
     "text": [
      "NOTE: Cloud Analytic Services made the uploaded file available as table TMPMPGIKK6B in caslib CASUSER(sasdemo).\n",
      "NOTE: The table TMPMPGIKK6B has been created in caslib CASUSER(sasdemo) from binary data uploaded to Cloud Analytic Services.\n"
     ]
    }
   ],
   "source": [
    "xl = pd.ExcelFile(indata_dir+\"/\"+indata+\".xlsx\")\n",
    "xl.sheet_names\n",
    "df = xl.parse(\"dm_quality_printer_band\")\n",
    "df.head()\n",
    "rc = sess.upload(df)"
   ]
  },
  {
   "cell_type": "code",
   "execution_count": null,
   "metadata": {
    "scrolled": true
   },
   "outputs": [],
   "source": [
    "# Read CouchDB record with ID = julia30\n",
    "my_document = my_database['julia30']\n",
    "# Convert JSON to DataFrame df and upload to CAS\n",
    "rc = sess.upload(df)"
   ]
  },
  {
   "cell_type": "code",
   "execution_count": null,
   "metadata": {
    "collapsed": true
   },
   "outputs": [],
   "source": [
    "# Read ODBC from Denodo\n",
    "rc1 = sess.table.addCaslib(dataSource={\"srcType\":\"ODBC\"}, name=\"ODBCLibname\", path=\"DNSName\")\n",
    "rc2 = sess.table.loadTable(casOut={\"caslib\":\"CasLib\", caslib=\"ODBCLibname\")"
   ]
  },
  {
   "cell_type": "markdown",
   "metadata": {},
   "source": [
    "### End CAS session"
   ]
  },
  {
   "cell_type": "code",
   "execution_count": 10,
   "metadata": {
    "collapsed": true
   },
   "outputs": [],
   "source": [
    "sess.close()"
   ]
  }
 ],
 "metadata": {
  "anaconda-cloud": {},
  "kernelspec": {
   "display_name": "Python 3",
   "language": "python",
   "name": "python3"
  },
  "language_info": {
   "codemirror_mode": {
    "name": "ipython",
    "version": 3
   },
   "file_extension": ".py",
   "mimetype": "text/x-python",
   "name": "python",
   "nbconvert_exporter": "python",
   "pygments_lexer": "ipython3",
   "version": "3.6.4"
  }
 },
 "nbformat": 4,
 "nbformat_minor": 1
}
