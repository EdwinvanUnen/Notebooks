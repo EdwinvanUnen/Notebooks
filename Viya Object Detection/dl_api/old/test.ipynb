{
 "cells": [
  {
   "cell_type": "code",
   "execution_count": 5,
   "metadata": {
    "collapsed": false
   },
   "outputs": [
    {
     "ename": "ImportError",
     "evalue": "No module named 'VGG16'",
     "traceback": [
      "\u001b[0;31m---------------------------------------------------------------------------\u001b[0m",
      "\u001b[0;31mImportError\u001b[0m                               Traceback (most recent call last)",
      "\u001b[0;32m<ipython-input-5-99e7ddb9c56f>\u001b[0m in \u001b[0;36m<module>\u001b[0;34m()\u001b[0m\n\u001b[1;32m      1\u001b[0m \u001b[1;32mfrom\u001b[0m \u001b[0mswat\u001b[0m \u001b[1;32mimport\u001b[0m \u001b[1;33m*\u001b[0m\u001b[1;33m\u001b[0m\u001b[0m\n\u001b[0;32m----> 2\u001b[0;31m \u001b[1;32mimport\u001b[0m \u001b[0mVGG16\u001b[0m\u001b[1;33m,\u001b[0m \u001b[0mimage_generator\u001b[0m\u001b[1;33m,\u001b[0m \u001b[0mModel\u001b[0m\u001b[1;33m\u001b[0m\u001b[0m\n\u001b[0m\u001b[1;32m      3\u001b[0m \u001b[1;33m\u001b[0m\u001b[0m\n\u001b[1;32m      4\u001b[0m \u001b[0mget_ipython\u001b[0m\u001b[1;33m(\u001b[0m\u001b[1;33m)\u001b[0m\u001b[1;33m.\u001b[0m\u001b[0mmagic\u001b[0m\u001b[1;33m(\u001b[0m\u001b[1;34m'matplotlib inline'\u001b[0m\u001b[1;33m)\u001b[0m\u001b[1;33m\u001b[0m\u001b[0m\n",
      "\u001b[0;31mImportError\u001b[0m: No module named 'VGG16'"
     ],
     "output_type": "error"
    }
   ],
   "source": [
    "from swat import *\n",
    "import VGG16, image_generator, Model\n",
    "\n",
    "%matplotlib inline"
   ]
  },
  {
   "cell_type": "code",
   "execution_count": 6,
   "metadata": {
    "collapsed": false
   },
   "outputs": [
    {
     "data": {
      "text/plain": [
       "'c:\\\\Users\\\\leliuz\\\\Desktop\\\\ipython_note\\\\dl_API'"
      ]
     },
     "execution_count": 6,
     "metadata": {},
     "output_type": "execute_result"
    }
   ],
   "source": [
    "import os\n",
    "os.getcwd()"
   ]
  },
  {
   "cell_type": "code",
   "execution_count": 8,
   "metadata": {
    "collapsed": false
   },
   "outputs": [
    {
     "name": "stdout",
     "output_type": "stream",
     "text": [
      "\n",
      "C:\\Users\\leliuz\\Desktop\\python\n",
      "C:\\Users\\leliuz\\AppData\\Local\\Continuum\\Anaconda3\\python35.zip\n",
      "C:\\Users\\leliuz\\AppData\\Local\\Continuum\\Anaconda3\\DLLs\n",
      "C:\\Users\\leliuz\\AppData\\Local\\Continuum\\Anaconda3\\lib\n",
      "C:\\Users\\leliuz\\AppData\\Local\\Continuum\\Anaconda3\n",
      "C:\\Users\\leliuz\\AppData\\Local\\Continuum\\Anaconda3\\lib\\site-packages\n",
      "C:\\Users\\leliuz\\AppData\\Local\\Continuum\\Anaconda3\\lib\\site-packages\\Sphinx-1.4.6-py3.5.egg\n",
      "C:\\Users\\leliuz\\AppData\\Local\\Continuum\\Anaconda3\\lib\\site-packages\\win32\n",
      "C:\\Users\\leliuz\\AppData\\Local\\Continuum\\Anaconda3\\lib\\site-packages\\win32\\lib\n",
      "C:\\Users\\leliuz\\AppData\\Local\\Continuum\\Anaconda3\\lib\\site-packages\\Pythonwin\n",
      "C:\\Users\\leliuz\\AppData\\Local\\Continuum\\Anaconda3\\lib\\site-packages\\setuptools-27.2.0-py3.5.egg\n",
      "C:\\Users\\leliuz\\AppData\\Local\\Continuum\\Anaconda3\\lib\\site-packages\\IPython\\extensions\n",
      "C:\\Users\\leliuz\\.ipython\n"
     ]
    }
   ],
   "source": [
    "for item in sys.path:print(item)"
   ]
  },
  {
   "cell_type": "code",
   "execution_count": null,
   "metadata": {
    "collapsed": false
   },
   "outputs": [],
   "source": [
    "sess = CAS('snap001.unx.sas.com', 14931, nworkers=3)"
   ]
  },
  {
   "cell_type": "markdown",
   "metadata": {},
   "source": [
    "# Load the images"
   ]
  },
  {
   "cell_type": "code",
   "execution_count": null,
   "metadata": {
    "collapsed": false,
    "scrolled": true
   },
   "outputs": [],
   "source": [
    "trainTbl,validTbl = image_generator(sess, img_path='/dept/cas/leliuz/WildTrack/Data0612/binary_fp',\n",
    "                          tr_te_split=True, test_rate=10)"
   ]
  },
  {
   "cell_type": "code",
   "execution_count": null,
   "metadata": {
    "collapsed": false
   },
   "outputs": [],
   "source": [
    "model_name = 'new_vgg16'\n",
    "new_model = VGG16(sess, model_name, pre_train_weight=True, include_top=False,\n",
    "          nchannels=3, width=224, height=224, scale=1,\n",
    "          randomflip='HV', randomcrop='unique', offsets=(85, 111, 139))"
   ]
  },
  {
   "cell_type": "code",
   "execution_count": null,
   "metadata": {
    "collapsed": false
   },
   "outputs": [],
   "source": [
    "new_model.model_weights.summary()"
   ]
  },
  {
   "cell_type": "code",
   "execution_count": null,
   "metadata": {
    "collapsed": false
   },
   "outputs": [],
   "source": [
    "new_model.set_weights(dict(name= '_imagenet_vgg16_weights', where= '_layerid_<18'))"
   ]
  },
  {
   "cell_type": "code",
   "execution_count": null,
   "metadata": {
    "collapsed": false
   },
   "outputs": [],
   "source": [
    "new_model.fit(trainTbl)"
   ]
  },
  {
   "cell_type": "code",
   "execution_count": null,
   "metadata": {
    "collapsed": false
   },
   "outputs": [],
   "source": [
    "new_model.modelWeights.summary(inputs='_Weight_')"
   ]
  }
 ],
 "metadata": {
  "anaconda-cloud": {},
  "kernelspec": {
   "display_name": "Python [default]",
   "language": "python",
   "name": "python3"
  },
  "language_info": {
   "codemirror_mode": {
    "name": "ipython",
    "version": 3.0
   },
   "file_extension": ".py",
   "mimetype": "text/x-python",
   "name": "python",
   "nbconvert_exporter": "python",
   "pygments_lexer": "ipython3",
   "version": "3.5.2"
  }
 },
 "nbformat": 4,
 "nbformat_minor": 0
}