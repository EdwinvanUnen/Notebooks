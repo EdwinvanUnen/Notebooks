{
 "cells": [
  {
   "cell_type": "code",
   "execution_count": 1,
   "metadata": {
    "collapsed": true,
    "deletable": true,
    "editable": true
   },
   "outputs": [],
   "source": [
    "import swat"
   ]
  },
  {
   "cell_type": "code",
   "execution_count": 2,
   "metadata": {
    "collapsed": false,
    "deletable": true,
    "editable": true
   },
   "outputs": [],
   "source": [
    "conn = swat.CAS('centis.example.local', 5570, 'sasdemo', 'SASpw123')"
   ]
  },
  {
   "cell_type": "code",
   "execution_count": 3,
   "metadata": {
    "collapsed": false,
    "deletable": true,
    "editable": true
   },
   "outputs": [
    {
     "name": "stdout",
     "output_type": "stream",
     "text": [
      "NOTE: Grid node action status report: 1 nodes, 6 total actions executed.\n"
     ]
    }
   ],
   "source": [
    "out = conn.serverstatus()"
   ]
  },
  {
   "cell_type": "code",
   "execution_count": 4,
   "metadata": {
    "collapsed": false,
    "deletable": true,
    "editable": true
   },
   "outputs": [
    {
     "name": "stdout",
     "output_type": "stream",
     "text": [
      "[About]\n",
      "\n",
      " {'CAS': 'Cloud Analytic Services',\n",
      "  'Copyright': 'Copyright © 2014-2016 SAS Institute Inc. All Rights Reserved.',\n",
      "  'System': {'Hostname': 'centis',\n",
      "   'Model Number': 'x86_64',\n",
      "   'OS Family': 'LIN X64',\n",
      "   'OS Name': 'Linux',\n",
      "   'OS Release': '3.10.0-514.6.1.el7.x86_64',\n",
      "   'OS Version': '#1 SMP Wed Jan 18 13:06:36 UTC 2017'},\n",
      "  'Version': '3.01',\n",
      "  'VersionLong': 'V.03.01M0P09072016',\n",
      "  'license': {'expires': '24. Oktober 2017 00.00 Uhr',\n",
      "   'gracePeriod': 45,\n",
      "   'maxCPUs': 9999,\n",
      "   'site': 'E25675: Test Viya3.1',\n",
      "   'siteNum': 70068118,\n",
      "   'warningPeriod': 55}}\n",
      "\n",
      "[server]\n",
      "\n",
      " Serverstatus\n",
      " \n",
      "    nodes  actions\n",
      " 0      1        6\n",
      "\n",
      "[nodestatus]\n",
      "\n",
      " Knotenstatus\n",
      " \n",
      "                    name        role  uptime  running  stalled\n",
      " 0  centis.example.local  controller   0.625        0        0\n",
      "\n",
      "+ Elapsed: 0.000958s, user: 0.000934s, mem: 0.0792mb\n"
     ]
    }
   ],
   "source": [
    " print(out)"
   ]
  },
  {
   "cell_type": "code",
   "execution_count": 5,
   "metadata": {
    "collapsed": true,
    "deletable": true,
    "editable": true
   },
   "outputs": [],
   "source": [
    "conn.close()"
   ]
  }
 ],
 "metadata": {
  "kernelspec": {
   "display_name": "Python 3",
   "language": "python",
   "name": "python3"
  },
  "language_info": {
   "codemirror_mode": {
    "name": "ipython",
    "version": 3
   },
   "file_extension": ".py",
   "mimetype": "text/x-python",
   "name": "python",
   "nbconvert_exporter": "python",
   "pygments_lexer": "ipython3",
   "version": "3.4.5"
  }
 },
 "nbformat": 4,
 "nbformat_minor": 2
}
