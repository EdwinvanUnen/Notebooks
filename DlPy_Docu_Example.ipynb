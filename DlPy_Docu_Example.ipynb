{
 "cells": [
  {
   "cell_type": "code",
   "execution_count": 1,
   "metadata": {},
   "outputs": [
    {
     "name": "stdout",
     "output_type": "stream",
     "text": [
      "CAS('centis', 5570, 'sasdemo', protocol='cas', name='py-session-1', session='5d1c6e9d-48bb-ff4a-aa70-aa23c9096d47')\n"
     ]
    }
   ],
   "source": [
    "# https://documentation.sas.com/?docsetId=casdlpg&docsetTarget=n0rkb1a1p6r6kpn141f6yxzfaawj.htm&docsetVersion=8.3&locale=en#n090ivvi7wzhgxn1v554m3wpkbpi\n",
    "\n",
    "#display matplot graphics in notebook cell\n",
    "%matplotlib inline\n",
    "\n",
    "#suppress warning messages\n",
    "import warnings\n",
    "warnings.simplefilter(action='ignore', category=FutureWarning)\n",
    "\n",
    "#import SAS Wrapper for Analytics Transfer (SWAT) \n",
    "import swat\n",
    "\n",
    "s = swat.CAS('centis', 5570, 'sasdemo', 'SASpw1')\n",
    "print(s)"
   ]
  },
  {
   "cell_type": "code",
   "execution_count": 2,
   "metadata": {},
   "outputs": [],
   "source": [
    "# Import DLPy model functions\n",
    "from dlpy import Model, Sequential\n",
    "\n",
    "# Import DLPy layer functions\n",
    "from dlpy.layers import *\n",
    "\n",
    "# Import DLPy application functions\n",
    "from dlpy.applications import *"
   ]
  },
  {
   "cell_type": "code",
   "execution_count": 3,
   "metadata": {},
   "outputs": [
    {
     "name": "stdout",
     "output_type": "stream",
     "text": [
      "<dlpy.sequential.Sequential object at 0x7f890c2e7a58>\n"
     ]
    }
   ],
   "source": [
    "# Use DLPy to create a sequential model and name it 'Simple_CNN' \n",
    "model1 = Sequential(s, model_table = 'Simple_CNN')\n",
    "print(model1)"
   ]
  },
  {
   "cell_type": "code",
   "execution_count": 4,
   "metadata": {},
   "outputs": [
    {
     "name": "stdout",
     "output_type": "stream",
     "text": [
      "NOTE: Input layer added.\n"
     ]
    }
   ],
   "source": [
    "# Now define an input layer to add to model1\n",
    "# The input shape contains RGB images (3 channels)\n",
    "# The model images are 224 px in height and 224 px in width\n",
    "model1.add(InputLayer(3,224,224))"
   ]
  },
  {
   "cell_type": "code",
   "execution_count": 5,
   "metadata": {},
   "outputs": [
    {
     "name": "stdout",
     "output_type": "stream",
     "text": [
      "NOTE: Convolution layer added.\n"
     ]
    }
   ],
   "source": [
    "# Add 2-Dimensional Convolution Layer to model1\n",
    "# that has 8 filters and a kernel size of 7. \n",
    "model1.add(Conv2d(8,7))"
   ]
  },
  {
   "cell_type": "code",
   "execution_count": 6,
   "metadata": {},
   "outputs": [
    {
     "name": "stdout",
     "output_type": "stream",
     "text": [
      "NOTE: Pooling layer added.\n"
     ]
    }
   ],
   "source": [
    "# Add Pooling Layer of size 2\n",
    "model1.add(Pooling(2))"
   ]
  },
  {
   "cell_type": "code",
   "execution_count": 7,
   "metadata": {},
   "outputs": [
    {
     "name": "stdout",
     "output_type": "stream",
     "text": [
      "NOTE: Convolution layer added.\n"
     ]
    }
   ],
   "source": [
    "# Add another 2D convolution Layer that has 8 filters\n",
    "# and a kernel size of 7 \n",
    "model1.add(Conv2d(8,7))"
   ]
  },
  {
   "cell_type": "code",
   "execution_count": 8,
   "metadata": {},
   "outputs": [
    {
     "name": "stdout",
     "output_type": "stream",
     "text": [
      "NOTE: Pooling layer added.\n"
     ]
    }
   ],
   "source": [
    "# Add a pooling layer of size 2 to # complete the second pair of layers. \n",
    "model1.add(Pooling(2))"
   ]
  },
  {
   "cell_type": "code",
   "execution_count": 9,
   "metadata": {},
   "outputs": [
    {
     "name": "stdout",
     "output_type": "stream",
     "text": [
      "NOTE: Fully-connected layer added.\n"
     ]
    }
   ],
   "source": [
    "# Add Fully-Connected Layer with 16 units\n",
    "model1.add(Dense(16))"
   ]
  },
  {
   "cell_type": "code",
   "execution_count": 10,
   "metadata": {},
   "outputs": [
    {
     "name": "stdout",
     "output_type": "stream",
     "text": [
      "NOTE: Output layer added.\n",
      "NOTE: Model compiled successfully.\n"
     ]
    }
   ],
   "source": [
    "# Add an output layer that has 2 nodes and uses\n",
    "# the Softmax activation function \n",
    "model1.add(OutputLayer(act='softmax',n=2))"
   ]
  },
  {
   "cell_type": "code",
   "execution_count": 11,
   "metadata": {},
   "outputs": [
    {
     "data": {
      "text/html": [
       "<div>\n",
       "<style scoped>\n",
       "    .dataframe tbody tr th:only-of-type {\n",
       "        vertical-align: middle;\n",
       "    }\n",
       "\n",
       "    .dataframe tbody tr th {\n",
       "        vertical-align: top;\n",
       "    }\n",
       "\n",
       "    .dataframe thead th {\n",
       "        text-align: right;\n",
       "    }\n",
       "</style>\n",
       "<table border=\"1\" class=\"dataframe\">\n",
       "  <thead>\n",
       "    <tr style=\"text-align: right;\">\n",
       "      <th></th>\n",
       "      <th>Layer</th>\n",
       "      <th>Type</th>\n",
       "      <th>Kernel Size</th>\n",
       "      <th>Stride</th>\n",
       "      <th>Activation</th>\n",
       "      <th>Output Size</th>\n",
       "      <th>Number of Parameters</th>\n",
       "    </tr>\n",
       "  </thead>\n",
       "  <tbody>\n",
       "    <tr>\n",
       "      <th>0</th>\n",
       "      <td>Input1</td>\n",
       "      <td>input</td>\n",
       "      <td>None</td>\n",
       "      <td>None</td>\n",
       "      <td>None</td>\n",
       "      <td>(224, 224, 3)</td>\n",
       "      <td>(0, 0)</td>\n",
       "    </tr>\n",
       "    <tr>\n",
       "      <th>1</th>\n",
       "      <td>Convo.1</td>\n",
       "      <td>convo</td>\n",
       "      <td>(7, 7)</td>\n",
       "      <td>1</td>\n",
       "      <td>Relu</td>\n",
       "      <td>(224, 224, 8)</td>\n",
       "      <td>(1176, 8)</td>\n",
       "    </tr>\n",
       "    <tr>\n",
       "      <th>2</th>\n",
       "      <td>Pool1</td>\n",
       "      <td>pool</td>\n",
       "      <td>(2, 2)</td>\n",
       "      <td>2</td>\n",
       "      <td>Max</td>\n",
       "      <td>(112, 112, 8)</td>\n",
       "      <td>(0, 0)</td>\n",
       "    </tr>\n",
       "    <tr>\n",
       "      <th>3</th>\n",
       "      <td>Convo.2</td>\n",
       "      <td>convo</td>\n",
       "      <td>(7, 7)</td>\n",
       "      <td>1</td>\n",
       "      <td>Relu</td>\n",
       "      <td>(112, 112, 8)</td>\n",
       "      <td>(3136, 8)</td>\n",
       "    </tr>\n",
       "    <tr>\n",
       "      <th>4</th>\n",
       "      <td>Pool2</td>\n",
       "      <td>pool</td>\n",
       "      <td>(2, 2)</td>\n",
       "      <td>2</td>\n",
       "      <td>Max</td>\n",
       "      <td>(56, 56, 8)</td>\n",
       "      <td>(0, 0)</td>\n",
       "    </tr>\n",
       "    <tr>\n",
       "      <th>5</th>\n",
       "      <td>F.C.1</td>\n",
       "      <td>fc</td>\n",
       "      <td>(25088, 16)</td>\n",
       "      <td>None</td>\n",
       "      <td>Relu</td>\n",
       "      <td>16</td>\n",
       "      <td>(401408, 0)</td>\n",
       "    </tr>\n",
       "    <tr>\n",
       "      <th>6</th>\n",
       "      <td>Output1</td>\n",
       "      <td>output</td>\n",
       "      <td>(16, 2)</td>\n",
       "      <td>None</td>\n",
       "      <td>Softmax</td>\n",
       "      <td>2</td>\n",
       "      <td>(32, 2)</td>\n",
       "    </tr>\n",
       "    <tr>\n",
       "      <th>7</th>\n",
       "      <td></td>\n",
       "      <td></td>\n",
       "      <td></td>\n",
       "      <td></td>\n",
       "      <td></td>\n",
       "      <td></td>\n",
       "      <td>405770</td>\n",
       "    </tr>\n",
       "  </tbody>\n",
       "</table>\n",
       "</div>"
      ],
      "text/plain": [
       "     Layer    Type  Kernel Size Stride Activation    Output Size  \\\n",
       "0   Input1   input         None   None       None  (224, 224, 3)   \n",
       "1  Convo.1   convo       (7, 7)      1       Relu  (224, 224, 8)   \n",
       "2    Pool1    pool       (2, 2)      2        Max  (112, 112, 8)   \n",
       "3  Convo.2   convo       (7, 7)      1       Relu  (112, 112, 8)   \n",
       "4    Pool2    pool       (2, 2)      2        Max    (56, 56, 8)   \n",
       "5    F.C.1      fc  (25088, 16)   None       Relu             16   \n",
       "6  Output1  output      (16, 2)   None    Softmax              2   \n",
       "7                                                                  \n",
       "\n",
       "  Number of Parameters  \n",
       "0               (0, 0)  \n",
       "1            (1176, 8)  \n",
       "2               (0, 0)  \n",
       "3            (3136, 8)  \n",
       "4               (0, 0)  \n",
       "5          (401408, 0)  \n",
       "6              (32, 2)  \n",
       "7               405770  "
      ]
     },
     "metadata": {},
     "output_type": "display_data"
    }
   ],
   "source": [
    "# Display a brief summary table of model1\n",
    "model1.print_summary()"
   ]
  },
  {
   "cell_type": "code",
   "execution_count": 12,
   "metadata": {},
   "outputs": [
    {
     "data": {
      "image/svg+xml": [
       "<?xml version=\"1.0\" encoding=\"UTF-8\" standalone=\"no\"?>\n",
       "<!DOCTYPE svg PUBLIC \"-//W3C//DTD SVG 1.1//EN\"\n",
       " \"http://www.w3.org/Graphics/SVG/1.1/DTD/svg11.dtd\">\n",
       "<!-- Generated by graphviz version 2.30.1 (20180420.1509)\n",
       " -->\n",
       "<!-- Title: Simple_CNN Pages: 1 -->\n",
       "<svg width=\"182pt\" height=\"464pt\"\n",
       " viewBox=\"0.00 0.00 182.00 464.00\" xmlns=\"http://www.w3.org/2000/svg\" xmlns:xlink=\"http://www.w3.org/1999/xlink\">\n",
       "<g id=\"graph0\" class=\"graph\" transform=\"scale(1 1) rotate(0) translate(4 460)\">\n",
       "<title>Simple_CNN</title>\n",
       "<polygon fill=\"white\" stroke=\"white\" points=\"-4,5 -4,-460 179,-460 179,5 -4,5\"/>\n",
       "<!-- Input1 -->\n",
       "<g id=\"node1\" class=\"node\"><title>Input1</title>\n",
       "<polygon fill=\"#3288bd\" fill-opacity=\"0.250980\" stroke=\"#3288bd\" points=\"0,-433 0,-455 174,-455 174,-433 0,-433\"/>\n",
       "<text text-anchor=\"middle\" x=\"87\" y=\"-440.3\" font-family=\"Helvetica,sans-Serif\" font-size=\"14.00\">224x224x3 Input1(input)</text>\n",
       "</g>\n",
       "<!-- Convo.1 -->\n",
       "<g id=\"node2\" class=\"node\"><title>Convo.1</title>\n",
       "<polygon fill=\"#fee08b\" fill-opacity=\"0.250980\" stroke=\"#b58c15\" points=\"12.5,-361 12.5,-383 161.5,-383 161.5,-361 12.5,-361\"/>\n",
       "<text text-anchor=\"middle\" x=\"87\" y=\"-368.3\" font-family=\"Helvetica,sans-Serif\" font-size=\"14.00\">7x7 Convo.1(convo)</text>\n",
       "</g>\n",
       "<!-- Input1&#45;&gt;Convo.1 -->\n",
       "<g id=\"edge1\" class=\"edge\"><title>Input1&#45;&gt;Convo.1</title>\n",
       "<path fill=\"none\" stroke=\"#5677f3\" d=\"M87,-432.971C87,-422.679 87,-406.375 87,-393.364\"/>\n",
       "<polygon fill=\"#5677f3\" stroke=\"#5677f3\" points=\"90.5001,-393.011 87,-383.011 83.5001,-393.011 90.5001,-393.011\"/>\n",
       "<text text-anchor=\"middle\" x=\"120\" y=\"-405.5\" font-family=\"Helvetica,sans-Serif\" font-size=\"10.00\"> 224 x 224 x 3 </text>\n",
       "</g>\n",
       "<!-- Pool1 -->\n",
       "<g id=\"node3\" class=\"node\"><title>Pool1</title>\n",
       "<polygon fill=\"#66c2a5\" fill-opacity=\"0.250980\" stroke=\"#66c2a5\" points=\"25.5,-289 25.5,-311 148.5,-311 148.5,-289 25.5,-289\"/>\n",
       "<text text-anchor=\"middle\" x=\"87\" y=\"-296.3\" font-family=\"Helvetica,sans-Serif\" font-size=\"14.00\">2x2 Pool1(pool)</text>\n",
       "</g>\n",
       "<!-- Convo.1&#45;&gt;Pool1 -->\n",
       "<g id=\"edge2\" class=\"edge\"><title>Convo.1&#45;&gt;Pool1</title>\n",
       "<path fill=\"none\" stroke=\"#5677f3\" d=\"M87,-360.971C87,-350.679 87,-334.375 87,-321.364\"/>\n",
       "<polygon fill=\"#5677f3\" stroke=\"#5677f3\" points=\"90.5001,-321.011 87,-311.011 83.5001,-321.011 90.5001,-321.011\"/>\n",
       "<text text-anchor=\"middle\" x=\"120\" y=\"-333.5\" font-family=\"Helvetica,sans-Serif\" font-size=\"10.00\"> 224 x 224 x 8 </text>\n",
       "</g>\n",
       "<!-- Convo.2 -->\n",
       "<g id=\"node4\" class=\"node\"><title>Convo.2</title>\n",
       "<polygon fill=\"#fee08b\" fill-opacity=\"0.250980\" stroke=\"#b58c15\" points=\"12.5,-217 12.5,-239 161.5,-239 161.5,-217 12.5,-217\"/>\n",
       "<text text-anchor=\"middle\" x=\"87\" y=\"-224.3\" font-family=\"Helvetica,sans-Serif\" font-size=\"14.00\">7x7 Convo.2(convo)</text>\n",
       "</g>\n",
       "<!-- Pool1&#45;&gt;Convo.2 -->\n",
       "<g id=\"edge3\" class=\"edge\"><title>Pool1&#45;&gt;Convo.2</title>\n",
       "<path fill=\"none\" stroke=\"#5677f3\" d=\"M87,-288.971C87,-278.679 87,-262.375 87,-249.364\"/>\n",
       "<polygon fill=\"#5677f3\" stroke=\"#5677f3\" points=\"90.5001,-249.011 87,-239.011 83.5001,-249.011 90.5001,-249.011\"/>\n",
       "<text text-anchor=\"middle\" x=\"120\" y=\"-261.5\" font-family=\"Helvetica,sans-Serif\" font-size=\"10.00\"> 112 x 112 x 8 </text>\n",
       "</g>\n",
       "<!-- Pool2 -->\n",
       "<g id=\"node5\" class=\"node\"><title>Pool2</title>\n",
       "<polygon fill=\"#66c2a5\" fill-opacity=\"0.250980\" stroke=\"#66c2a5\" points=\"25.5,-145 25.5,-167 148.5,-167 148.5,-145 25.5,-145\"/>\n",
       "<text text-anchor=\"middle\" x=\"87\" y=\"-152.3\" font-family=\"Helvetica,sans-Serif\" font-size=\"14.00\">2x2 Pool2(pool)</text>\n",
       "</g>\n",
       "<!-- Convo.2&#45;&gt;Pool2 -->\n",
       "<g id=\"edge4\" class=\"edge\"><title>Convo.2&#45;&gt;Pool2</title>\n",
       "<path fill=\"none\" stroke=\"#5677f3\" d=\"M87,-216.971C87,-206.679 87,-190.375 87,-177.364\"/>\n",
       "<polygon fill=\"#5677f3\" stroke=\"#5677f3\" points=\"90.5001,-177.011 87,-167.011 83.5001,-177.011 90.5001,-177.011\"/>\n",
       "<text text-anchor=\"middle\" x=\"120\" y=\"-189.5\" font-family=\"Helvetica,sans-Serif\" font-size=\"10.00\"> 112 x 112 x 8 </text>\n",
       "</g>\n",
       "<!-- F.C.1 -->\n",
       "<g id=\"node6\" class=\"node\"><title>F.C.1</title>\n",
       "<polygon fill=\"#ffffbf\" fill-opacity=\"0.250980\" stroke=\"#aeae82\" points=\"15,-73 15,-95 159,-95 159,-73 15,-73\"/>\n",
       "<text text-anchor=\"middle\" x=\"87\" y=\"-80.3\" font-family=\"Helvetica,sans-Serif\" font-size=\"14.00\">25088x16 F.C.1(fc)</text>\n",
       "</g>\n",
       "<!-- Pool2&#45;&gt;F.C.1 -->\n",
       "<g id=\"edge5\" class=\"edge\"><title>Pool2&#45;&gt;F.C.1</title>\n",
       "<path fill=\"none\" stroke=\"#5677f3\" d=\"M87,-144.971C87,-134.679 87,-118.375 87,-105.364\"/>\n",
       "<polygon fill=\"#5677f3\" stroke=\"#5677f3\" points=\"90.5001,-105.011 87,-95.0107 83.5001,-105.011 90.5001,-105.011\"/>\n",
       "<text text-anchor=\"middle\" x=\"114.5\" y=\"-117.5\" font-family=\"Helvetica,sans-Serif\" font-size=\"10.00\"> 56 x 56 x 8 </text>\n",
       "</g>\n",
       "<!-- Output1 -->\n",
       "<g id=\"node7\" class=\"node\"><title>Output1</title>\n",
       "<polygon fill=\"#5e4fa2\" fill-opacity=\"0.125490\" stroke=\"#5e4fa2\" points=\"8.5,-1 8.5,-23 165.5,-23 165.5,-1 8.5,-1\"/>\n",
       "<text text-anchor=\"middle\" x=\"87\" y=\"-8.3\" font-family=\"Helvetica,sans-Serif\" font-size=\"14.00\">16x2 Output1(output)</text>\n",
       "</g>\n",
       "<!-- F.C.1&#45;&gt;Output1 -->\n",
       "<g id=\"edge6\" class=\"edge\"><title>F.C.1&#45;&gt;Output1</title>\n",
       "<path fill=\"none\" stroke=\"#5677f3\" d=\"M87,-72.9707C87,-62.6786 87,-46.3754 87,-33.3639\"/>\n",
       "<polygon fill=\"#5677f3\" stroke=\"#5677f3\" points=\"90.5001,-33.0107 87,-23.0107 83.5001,-33.0107 90.5001,-33.0107\"/>\n",
       "<text text-anchor=\"middle\" x=\"95.5\" y=\"-45.5\" font-family=\"Helvetica,sans-Serif\" font-size=\"10.00\"> 16 </text>\n",
       "</g>\n",
       "</g>\n",
       "</svg>\n"
      ],
      "text/plain": [
       "<graphviz.dot.Digraph at 0x7f890d74e6d8>"
      ]
     },
     "execution_count": 12,
     "metadata": {},
     "output_type": "execute_result"
    }
   ],
   "source": [
    "# Use Graphviz to display network DAG for Simple_CNN model\n",
    "\n",
    "model1.plot_network()"
   ]
  },
  {
   "cell_type": "code",
   "execution_count": null,
   "metadata": {},
   "outputs": [],
   "source": [
    "from dlpy.images import ImageTable\n",
    "img_path='/disk/linux/dlpy/Giraffe_Dolphin'\n",
    "my_images = ImageTable.load_files(sess, path=img_path)\n",
    "my_images.head()\n",
    "my_images.show(nimages=4, ncol=4, randomize=True)\n",
    "my_images.label_freq\n",
    "my_images.image_summary"
   ]
  },
  {
   "cell_type": "code",
   "execution_count": 29,
   "metadata": {},
   "outputs": [],
   "source": [
    "s.terminate()"
   ]
  }
 ],
 "metadata": {
  "kernelspec": {
   "display_name": "Python 3",
   "language": "python",
   "name": "python3"
  },
  "language_info": {
   "codemirror_mode": {
    "name": "ipython",
    "version": 3
   },
   "file_extension": ".py",
   "mimetype": "text/x-python",
   "name": "python",
   "nbconvert_exporter": "python",
   "pygments_lexer": "ipython3",
   "version": "3.7.0"
  }
 },
 "nbformat": 4,
 "nbformat_minor": 2
}
