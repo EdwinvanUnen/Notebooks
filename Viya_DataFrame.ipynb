{
 "cells": [
  {
   "cell_type": "code",
   "execution_count": 3,
   "metadata": {
    "collapsed": true
   },
   "outputs": [],
   "source": [
    "import pandas as pd\n",
    "import numpy as np\n",
    "import matplotlib.pyplot as plt\n",
    "import swat"
   ]
  },
  {
   "cell_type": "code",
   "execution_count": 10,
   "metadata": {
    "collapsed": false
   },
   "outputs": [
    {
     "data": {
      "text/plain": [
       "CAS('eeclxvm128b.unx.sas.com', 5570, 'sasdemo', protocol='cas', name='py-session-5', session='25d7e72a-0f3e-ae48-a5b7-077e7a3a3610')"
      ]
     },
     "execution_count": 10,
     "metadata": {},
     "output_type": "execute_result"
    }
   ],
   "source": [
    "portnumber=5570\n",
    "sess = swat.CAS(\"eeclxvm128b.unx.sas.com\", 5570, authinfo=\"~/.authinfo\", caslib=\"casuser\")\n",
    "sess"
   ]
  },
  {
   "cell_type": "code",
   "execution_count": 9,
   "metadata": {
    "collapsed": false
   },
   "outputs": [
    {
     "data": {
      "text/html": [
       "<div>\n",
       "<table border=\"1\" class=\"dataframe\">\n",
       "  <thead>\n",
       "    <tr style=\"text-align: right;\">\n",
       "      <th></th>\n",
       "      <th>A</th>\n",
       "      <th>B</th>\n",
       "      <th>C</th>\n",
       "      <th>D</th>\n",
       "    </tr>\n",
       "  </thead>\n",
       "  <tbody>\n",
       "    <tr>\n",
       "      <th>2013-01-01</th>\n",
       "      <td>0.008106</td>\n",
       "      <td>-0.538164</td>\n",
       "      <td>0.699961</td>\n",
       "      <td>1.369112</td>\n",
       "    </tr>\n",
       "    <tr>\n",
       "      <th>2013-01-02</th>\n",
       "      <td>-0.737332</td>\n",
       "      <td>-2.147010</td>\n",
       "      <td>0.548779</td>\n",
       "      <td>0.397055</td>\n",
       "    </tr>\n",
       "    <tr>\n",
       "      <th>2013-01-03</th>\n",
       "      <td>0.674146</td>\n",
       "      <td>0.274864</td>\n",
       "      <td>1.436233</td>\n",
       "      <td>-0.039104</td>\n",
       "    </tr>\n",
       "    <tr>\n",
       "      <th>2013-01-04</th>\n",
       "      <td>-1.684276</td>\n",
       "      <td>0.050181</td>\n",
       "      <td>-0.492504</td>\n",
       "      <td>1.459064</td>\n",
       "    </tr>\n",
       "    <tr>\n",
       "      <th>2013-01-05</th>\n",
       "      <td>0.046251</td>\n",
       "      <td>-0.450684</td>\n",
       "      <td>1.298351</td>\n",
       "      <td>-0.667264</td>\n",
       "    </tr>\n",
       "    <tr>\n",
       "      <th>2013-01-06</th>\n",
       "      <td>1.714816</td>\n",
       "      <td>1.371983</td>\n",
       "      <td>0.824435</td>\n",
       "      <td>0.434415</td>\n",
       "    </tr>\n",
       "  </tbody>\n",
       "</table>\n",
       "</div>"
      ],
      "text/plain": [
       "                   A         B         C         D\n",
       "2013-01-01  0.008106 -0.538164  0.699961  1.369112\n",
       "2013-01-02 -0.737332 -2.147010  0.548779  0.397055\n",
       "2013-01-03  0.674146  0.274864  1.436233 -0.039104\n",
       "2013-01-04 -1.684276  0.050181 -0.492504  1.459064\n",
       "2013-01-05  0.046251 -0.450684  1.298351 -0.667264\n",
       "2013-01-06  1.714816  1.371983  0.824435  0.434415"
      ]
     },
     "execution_count": 9,
     "metadata": {},
     "output_type": "execute_result"
    }
   ],
   "source": [
    "dates = pd.date_range('20130101',periods=6)\n",
    "df = pd.DataFrame(np.random.randn(6,4),index=dates,columns=list('ABCD'))\n",
    "df"
   ]
  },
  {
   "cell_type": "code",
   "execution_count": 11,
   "metadata": {
    "collapsed": false
   },
   "outputs": [
    {
     "name": "stdout",
     "output_type": "stream",
     "text": [
      "NOTE: Cloud Analytic Services made the uploaded file available as table TMP2C3VUFKK in caslib CASUSER(sasdemo).\n",
      "NOTE: The table TMP2C3VUFKK has been created in caslib CASUSER(sasdemo) from binary data uploaded to Cloud Analytic Services.\n"
     ]
    }
   ],
   "source": [
    "results = sess.upload(df)"
   ]
  },
  {
   "cell_type": "code",
   "execution_count": 14,
   "metadata": {
    "collapsed": false
   },
   "outputs": [
    {
     "data": {
      "text/html": [
       "<div>\n",
       "<table border=\"1\" class=\"dataframe\"><caption>Selected Rows from Table TMP2C3VUFKK</caption>\n",
       "  <thead>\n",
       "    <tr style=\"text-align: right;\">\n",
       "      <th title=\"\"></th>\n",
       "      <th title=\"A\">A</th>\n",
       "      <th title=\"B\">B</th>\n",
       "      <th title=\"C\">C</th>\n",
       "      <th title=\"D\">D</th>\n",
       "    </tr>\n",
       "  </thead>\n",
       "  <tbody>\n",
       "    <tr>\n",
       "      <th>0</th>\n",
       "      <td>0.008106</td>\n",
       "      <td>-0.538164</td>\n",
       "      <td>0.699961</td>\n",
       "      <td>1.369112</td>\n",
       "    </tr>\n",
       "    <tr>\n",
       "      <th>1</th>\n",
       "      <td>-0.737332</td>\n",
       "      <td>-2.147010</td>\n",
       "      <td>0.548779</td>\n",
       "      <td>0.397055</td>\n",
       "    </tr>\n",
       "    <tr>\n",
       "      <th>2</th>\n",
       "      <td>0.674146</td>\n",
       "      <td>0.274864</td>\n",
       "      <td>1.436233</td>\n",
       "      <td>-0.039104</td>\n",
       "    </tr>\n",
       "    <tr>\n",
       "      <th>3</th>\n",
       "      <td>-1.684276</td>\n",
       "      <td>0.050181</td>\n",
       "      <td>-0.492504</td>\n",
       "      <td>1.459064</td>\n",
       "    </tr>\n",
       "    <tr>\n",
       "      <th>4</th>\n",
       "      <td>0.046251</td>\n",
       "      <td>-0.450684</td>\n",
       "      <td>1.298351</td>\n",
       "      <td>-0.667264</td>\n",
       "    </tr>\n",
       "  </tbody>\n",
       "</table>\n",
       "</div>"
      ],
      "text/plain": [
       "Selected Rows from Table TMP2C3VUFKK\n",
       "\n",
       "          A         B         C         D\n",
       "0  0.008106 -0.538164  0.699961  1.369112\n",
       "1 -0.737332 -2.147010  0.548779  0.397055\n",
       "2  0.674146  0.274864  1.436233 -0.039104\n",
       "3 -1.684276  0.050181 -0.492504  1.459064\n",
       "4  0.046251 -0.450684  1.298351 -0.667264"
      ]
     },
     "execution_count": 14,
     "metadata": {},
     "output_type": "execute_result"
    }
   ],
   "source": [
    "tbl = results.casTable\n",
    "tbl.head()"
   ]
  },
  {
   "cell_type": "code",
   "execution_count": 15,
   "metadata": {
    "collapsed": false
   },
   "outputs": [
    {
     "data": {
      "text/html": [
       "<div class=\"cas-results-key\"><b>&#167; ColumnInfo</b></div>\n",
       "<div class=\"cas-results-body\">\n",
       "<div>\n",
       "<table border=\"1\" class=\"dataframe\">\n",
       "  <thead>\n",
       "    <tr style=\"text-align: right;\">\n",
       "      <th title=\"\"></th>\n",
       "      <th title=\"Column\">Column</th>\n",
       "      <th title=\"ID\">ID</th>\n",
       "      <th title=\"Type\">Type</th>\n",
       "      <th title=\"RawLength\">RawLength</th>\n",
       "      <th title=\"FormattedLength\">FormattedLength</th>\n",
       "      <th title=\"NFL\">NFL</th>\n",
       "      <th title=\"NFD\">NFD</th>\n",
       "    </tr>\n",
       "  </thead>\n",
       "  <tbody>\n",
       "    <tr>\n",
       "      <th>0</th>\n",
       "      <td>A</td>\n",
       "      <td>1</td>\n",
       "      <td>double</td>\n",
       "      <td>8</td>\n",
       "      <td>12</td>\n",
       "      <td>0</td>\n",
       "      <td>0</td>\n",
       "    </tr>\n",
       "    <tr>\n",
       "      <th>1</th>\n",
       "      <td>B</td>\n",
       "      <td>2</td>\n",
       "      <td>double</td>\n",
       "      <td>8</td>\n",
       "      <td>12</td>\n",
       "      <td>0</td>\n",
       "      <td>0</td>\n",
       "    </tr>\n",
       "    <tr>\n",
       "      <th>2</th>\n",
       "      <td>C</td>\n",
       "      <td>3</td>\n",
       "      <td>double</td>\n",
       "      <td>8</td>\n",
       "      <td>12</td>\n",
       "      <td>0</td>\n",
       "      <td>0</td>\n",
       "    </tr>\n",
       "    <tr>\n",
       "      <th>3</th>\n",
       "      <td>D</td>\n",
       "      <td>4</td>\n",
       "      <td>double</td>\n",
       "      <td>8</td>\n",
       "      <td>12</td>\n",
       "      <td>0</td>\n",
       "      <td>0</td>\n",
       "    </tr>\n",
       "  </tbody>\n",
       "</table>\n",
       "</div>\n",
       "</div>\n",
       "<div class=\"cas-output-area\"></div>\n",
       "<p class=\"cas-results-performance\"><small><span class=\"cas-elapsed\">elapsed 0.000403s</span> &#183; <span class=\"cas-memory\">mem 0.132MB</span></small></p>"
      ],
      "text/plain": [
       "[ColumnInfo]\n",
       "\n",
       "   Column  ID    Type  RawLength  FormattedLength  NFL  NFD\n",
       " 0      A   1  double          8               12    0    0\n",
       " 1      B   2  double          8               12    0    0\n",
       " 2      C   3  double          8               12    0    0\n",
       " 3      D   4  double          8               12    0    0\n",
       "\n",
       "+ Elapsed: 0.000403s, mem: 0.132mb"
      ]
     },
     "execution_count": 15,
     "metadata": {},
     "output_type": "execute_result"
    }
   ],
   "source": [
    "tbl.columninfo()"
   ]
  },
  {
   "cell_type": "code",
   "execution_count": 16,
   "metadata": {
    "collapsed": false
   },
   "outputs": [
    {
     "data": {
      "text/html": [
       "<div class=\"cas-results-key\"><b>&#167; Summary</b></div>\n",
       "<div class=\"cas-results-body\">\n",
       "<div>\n",
       "<table border=\"1\" class=\"dataframe\"><caption>Descriptive Statistics for TMP2C3VUFKK</caption>\n",
       "  <thead>\n",
       "    <tr style=\"text-align: right;\">\n",
       "      <th title=\"\"></th>\n",
       "      <th title=\"Analysis Variable\">Column</th>\n",
       "      <th title=\"Minimum\">Min</th>\n",
       "      <th title=\"Maximum\">Max</th>\n",
       "      <th title=\"N\">N</th>\n",
       "      <th title=\"N Miss\">NMiss</th>\n",
       "      <th title=\"Mean\">Mean</th>\n",
       "      <th title=\"Sum\">Sum</th>\n",
       "      <th title=\"Std Dev\">Std</th>\n",
       "      <th title=\"Std Error\">StdErr</th>\n",
       "      <th title=\"Variance\">Var</th>\n",
       "      <th title=\"USS\">USS</th>\n",
       "      <th title=\"Corrected SS\">CSS</th>\n",
       "      <th title=\"Coeff of Variation\">CV</th>\n",
       "      <th title=\"t Value\">TValue</th>\n",
       "      <th title=\"Pr &gt; |t|\">ProbT</th>\n",
       "    </tr>\n",
       "  </thead>\n",
       "  <tbody>\n",
       "    <tr>\n",
       "      <th>0</th>\n",
       "      <td>A</td>\n",
       "      <td>-1.684276</td>\n",
       "      <td>1.714816</td>\n",
       "      <td>6.0</td>\n",
       "      <td>0.0</td>\n",
       "      <td>0.003618</td>\n",
       "      <td>0.021711</td>\n",
       "      <td>1.164271</td>\n",
       "      <td>0.475312</td>\n",
       "      <td>1.355528</td>\n",
       "      <td>6.777716</td>\n",
       "      <td>6.777638</td>\n",
       "      <td>32176.151987</td>\n",
       "      <td>0.007613</td>\n",
       "      <td>0.994220</td>\n",
       "    </tr>\n",
       "    <tr>\n",
       "      <th>1</th>\n",
       "      <td>B</td>\n",
       "      <td>-2.147010</td>\n",
       "      <td>1.371983</td>\n",
       "      <td>6.0</td>\n",
       "      <td>0.0</td>\n",
       "      <td>-0.239805</td>\n",
       "      <td>-1.438829</td>\n",
       "      <td>1.159117</td>\n",
       "      <td>0.473207</td>\n",
       "      <td>1.343552</td>\n",
       "      <td>7.062797</td>\n",
       "      <td>6.717758</td>\n",
       "      <td>-483.358310</td>\n",
       "      <td>-0.506765</td>\n",
       "      <td>0.633871</td>\n",
       "    </tr>\n",
       "    <tr>\n",
       "      <th>2</th>\n",
       "      <td>C</td>\n",
       "      <td>-0.492504</td>\n",
       "      <td>1.436233</td>\n",
       "      <td>6.0</td>\n",
       "      <td>0.0</td>\n",
       "      <td>0.719209</td>\n",
       "      <td>4.315254</td>\n",
       "      <td>0.686770</td>\n",
       "      <td>0.280373</td>\n",
       "      <td>0.471653</td>\n",
       "      <td>5.461836</td>\n",
       "      <td>2.358266</td>\n",
       "      <td>95.489631</td>\n",
       "      <td>2.565189</td>\n",
       "      <td>0.050328</td>\n",
       "    </tr>\n",
       "    <tr>\n",
       "      <th>3</th>\n",
       "      <td>D</td>\n",
       "      <td>-0.667264</td>\n",
       "      <td>1.459064</td>\n",
       "      <td>6.0</td>\n",
       "      <td>0.0</td>\n",
       "      <td>0.492213</td>\n",
       "      <td>2.953277</td>\n",
       "      <td>0.817659</td>\n",
       "      <td>0.333808</td>\n",
       "      <td>0.668567</td>\n",
       "      <td>4.796473</td>\n",
       "      <td>3.342833</td>\n",
       "      <td>166.119043</td>\n",
       "      <td>1.474539</td>\n",
       "      <td>0.200345</td>\n",
       "    </tr>\n",
       "  </tbody>\n",
       "</table>\n",
       "</div>\n",
       "</div>\n",
       "<div class=\"cas-output-area\"></div>\n",
       "<p class=\"cas-results-performance\"><small><span class=\"cas-elapsed\">elapsed 0.00285s</span> &#183; <span class=\"cas-user\">user 0.000999s</span> &#183; <span class=\"cas-sys\">sys 0.003s</span> &#183; <span class=\"cas-memory\">mem 0.649MB</span></small></p>"
      ],
      "text/plain": [
       "[Summary]\n",
       "\n",
       " Descriptive Statistics for TMP2C3VUFKK\n",
       " \n",
       "   Column       Min       Max    N  NMiss      Mean       Sum       Std  \\\n",
       " 0      A -1.684276  1.714816  6.0    0.0  0.003618  0.021711  1.164271   \n",
       " 1      B -2.147010  1.371983  6.0    0.0 -0.239805 -1.438829  1.159117   \n",
       " 2      C -0.492504  1.436233  6.0    0.0  0.719209  4.315254  0.686770   \n",
       " 3      D -0.667264  1.459064  6.0    0.0  0.492213  2.953277  0.817659   \n",
       " \n",
       "      StdErr       Var       USS       CSS            CV    TValue     ProbT  \n",
       " 0  0.475312  1.355528  6.777716  6.777638  32176.151987  0.007613  0.994220  \n",
       " 1  0.473207  1.343552  7.062797  6.717758   -483.358310 -0.506765  0.633871  \n",
       " 2  0.280373  0.471653  5.461836  2.358266     95.489631  2.565189  0.050328  \n",
       " 3  0.333808  0.668567  4.796473  3.342833    166.119043  1.474539  0.200345  \n",
       "\n",
       "+ Elapsed: 0.00285s, user: 0.000999s, sys: 0.003s, mem: 0.649mb"
      ]
     },
     "execution_count": 16,
     "metadata": {},
     "output_type": "execute_result"
    }
   ],
   "source": [
    "sumry = tbl.summary()\n",
    "sumry"
   ]
  },
  {
   "cell_type": "code",
   "execution_count": 17,
   "metadata": {
    "collapsed": true
   },
   "outputs": [],
   "source": [
    "sess.terminate()"
   ]
  }
 ],
 "metadata": {
  "kernelspec": {
   "display_name": "Python 3",
   "language": "python",
   "name": "python3"
  },
  "language_info": {
   "codemirror_mode": {
    "name": "ipython",
    "version": 3
   },
   "file_extension": ".py",
   "mimetype": "text/x-python",
   "name": "python",
   "nbconvert_exporter": "python",
   "pygments_lexer": "ipython3",
   "version": "3.6.0"
  }
 },
 "nbformat": 4,
 "nbformat_minor": 2
}
