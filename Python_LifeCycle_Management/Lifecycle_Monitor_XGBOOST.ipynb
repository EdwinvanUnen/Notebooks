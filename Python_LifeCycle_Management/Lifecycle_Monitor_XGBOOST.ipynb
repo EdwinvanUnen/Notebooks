{
 "cells": [
  {
   "cell_type": "markdown",
   "metadata": {},
   "source": [
    "# Generation of performance files via an XGBOOST model (pickle file)"
   ]
  },
  {
   "cell_type": "code",
   "execution_count": 1,
   "metadata": {
    "collapsed": true
   },
   "outputs": [],
   "source": [
    "import os\n",
    "import sys, getopt\n",
    "import pandas as pd\n",
    "import numpy as np\n",
    "import xgboost\n",
    "from sklearn.base import TransformerMixin\n",
    "from sklearn.tree import DecisionTreeClassifier\n",
    "\n",
    "from sklearn import model_selection\n",
    "from sklearn.metrics import accuracy_score\n",
    "from swat import *\n",
    "from swat.render import render_html\n",
    "from pprint import pprint\n",
    "from matplotlib import pyplot as plt\n",
    "import pandas as pd\n",
    "import sys\n",
    "%matplotlib inline"
   ]
  },
  {
   "cell_type": "code",
   "execution_count": 2,
   "metadata": {},
   "outputs": [
    {
     "name": "stdout",
     "output_type": "stream",
     "text": [
      "Number of arguments: 3 arguments.\n",
      "Argument List: ['/opt/anaconda3/lib/python3.6/site-packages/ipykernel_launcher.py', '-f', '/home/sasdemo01/.local/share/jupyter/runtime/kernel-994b1b53-b264-42e9-b286-9ea066a643df.json']\n",
      "Model ID =  \n"
     ]
    }
   ],
   "source": [
    "datadir = os.getcwd() + '/'\n",
    "\n",
    "# This part of parameter parsing is not working properly\n",
    "#print('Number of arguments:', len(sys.argv), 'arguments.')\n",
    "#print('Argument List:', str(sys.argv))\n",
    "#print(getArgument(\"VarA\", \"NULL\"))   \n",
    "\n",
    "def main(argv):\n",
    "    uuid = ''\n",
    "    arg = ''\n",
    "    try:\n",
    "        opts, args = getopt.getopt(argv,\"h:i:\",[\"help\",\"uuid=\"])\n",
    "    except getopt.GetoptError:\n",
    "        print('Lifecycle_Monitor_XGBOOST.py --uuid <modelID>')\n",
    "        sys.exit(2)\n",
    "    for opt, arg in opts:\n",
    "        if opt in (\"-h\", \"--help\"):\n",
    "            print('Lifecycle_Monitor_XGBOOST.py --uuid <modelID>')\n",
    "            sys.exit()\n",
    "        elif opt in (\"-i\", \"--uuid\"):\n",
    "            uuid = arg\n",
    "            print('UUID',arg)\n",
    "    #print('Model ID = ', uuid)\n",
    "\n",
    "if __name__ == \"__main__\":\n",
    "    main(sys.argv[3:])\n",
    "\n",
    "# Instead use communication via file\n",
    "file=open(root_path + \"output/uuid.txt\",\"r+\")\n",
    "uuid=file.readline()\n",
    "file.close()\n",
    "print(\"UUID = \", uuid)"
   ]
  },
  {
   "cell_type": "code",
   "execution_count": 3,
   "metadata": {},
   "outputs": [
    {
     "name": "stdout",
     "output_type": "stream",
     "text": [
      "CAS('localhost', 5570, 'sasdemo01', protocol='cas', name='py-session-1', session='ece4d43c-0bad-0f46-ad7d-8f67ec3b2660')\n"
     ]
    }
   ],
   "source": [
    "sess = CAS('localhost', 5570, authinfo='/home/sasdemo01/.authinfo', caslib=\"public\")\n",
    "print(sess)"
   ]
  },
  {
   "cell_type": "code",
   "execution_count": 4,
   "metadata": {
    "collapsed": true
   },
   "outputs": [],
   "source": [
    "class DataFrameImputer(TransformerMixin):\n",
    "\n",
    "    def __init__(self):\n",
    "        \"\"\"Impute missing values.\n",
    "\n",
    "        Columns of dtype object are imputed with the most frequent value \n",
    "        in column.\n",
    "\n",
    "        Columns of other types are imputed with mean of column.\n",
    "\n",
    "        \"\"\"\n",
    "    def fit(self, X, y=None):\n",
    "\n",
    "        self.fill = pd.Series([X[c].value_counts().index[0]\n",
    "            if X[c].dtype == np.dtype('O') else X[c].mean() for c in X],\n",
    "            index=X.columns)\n",
    "\n",
    "        return self\n",
    "\n",
    "    def transform(self, X, y=None):\n",
    "        return X.fillna(self.fill)"
   ]
  },
  {
   "cell_type": "code",
   "execution_count": 5,
   "metadata": {},
   "outputs": [
    {
     "name": "stdout",
     "output_type": "stream",
     "text": [
      "0 HMEQMONITOR_1_Q1\n",
      "1 HMEQMONITOR_2_Q2\n",
      "2 HMEQMONITOR_3_Q3\n",
      "3 HMEQMONITOR_4_Q4\n"
     ]
    }
   ],
   "source": [
    "data_sets = ['HMEQMONITOR_1_Q1', 'HMEQMONITOR_2_Q2', 'HMEQMONITOR_3_Q3', 'HMEQMONITOR_4_Q4']\n",
    "\n",
    "targetvar = ['BAD']\n",
    "inputvars = ['LOAN', 'MORTDUE', 'VALUE', 'YOJ', 'DEROG', 'DELINQ', 'CLAGE', 'NINQ', 'CLNO', 'DEBTINC']\n",
    "\n",
    "# Dictionaries for different monitoring data sets (d) and to be scored parts X. \n",
    "d = {}\n",
    "X = {}\n",
    "for idx, ds in enumerate(data_sets):\n",
    "    print(idx, ds)\n",
    "    d[idx] = pd.read_csv(datadir + ds + \".csv.zip\", compression='zip', na_values=['NULL'])\n",
    "    Y = d[idx][targetvar]\n",
    "    X0 = d[idx][inputvars]\n",
    "    # impute the missing value\n",
    "    X[idx] = DataFrameImputer().fit_transform(X0)"
   ]
  },
  {
   "cell_type": "markdown",
   "metadata": {},
   "source": [
    "### Import the Python XGBOOST Model"
   ]
  },
  {
   "cell_type": "code",
   "execution_count": 6,
   "metadata": {
    "collapsed": true
   },
   "outputs": [],
   "source": [
    "import pickle\n",
    "loaded_model = pickle.load(open(datadir + \"PythonModelXGBOOST/train/xgboost_model_obj.pkl\", \"rb\"))"
   ]
  },
  {
   "cell_type": "markdown",
   "metadata": {},
   "source": [
    "### Score New Data in Python"
   ]
  },
  {
   "cell_type": "code",
   "execution_count": 7,
   "metadata": {
    "collapsed": true
   },
   "outputs": [],
   "source": [
    "ds_names={}\n",
    "for idx, ds in enumerate(data_sets):\n",
    "    y_pred=loaded_model.predict_proba(X[idx])\n",
    "    temp1=pd.DataFrame(y_pred,columns=[\"P_BAD0\",\"P_BAD1\"])\n",
    "    frames=[d[idx],temp1]\n",
    "    ds_names[ds] = pd.concat(frames,axis=1,ignore_index=False)"
   ]
  },
  {
   "cell_type": "code",
   "execution_count": 8,
   "metadata": {
    "collapsed": true
   },
   "outputs": [],
   "source": [
    "for idx, ds in enumerate(data_sets):\n",
    "    results = sess.table.tableExists(caslib=\"Public\", name=\"{}\".format(ds + \"_\" + uuid))\n",
    "#   Table not loaded yet\n",
    "    if(results.exists == 0):\n",
    "        sess.upload_frame(ds_names[ds],casout={\"caslib\":\"Public\",\"promote\":True, \"name\":\"{}\".format(ds + \"_\" + uuid)})"
   ]
  },
  {
   "cell_type": "code",
   "execution_count": 9,
   "metadata": {
    "collapsed": true
   },
   "outputs": [],
   "source": [
    "sess.terminate()"
   ]
  }
 ],
 "metadata": {
  "kernelspec": {
   "display_name": "Python 3",
   "language": "python",
   "name": "python3"
  },
  "language_info": {
   "codemirror_mode": {
    "name": "ipython",
    "version": 3
   },
   "file_extension": ".py",
   "mimetype": "text/x-python",
   "name": "python",
   "nbconvert_exporter": "python",
   "pygments_lexer": "ipython3",
   "version": "3.6.3"
  }
 },
 "nbformat": 4,
 "nbformat_minor": 2
}
