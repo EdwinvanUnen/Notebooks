{
 "cells": [
  {
   "cell_type": "markdown",
   "metadata": {},
   "source": [
    "# Generation of performance files via an XGBOOST model (pickle file)"
   ]
  },
  {
   "cell_type": "code",
   "execution_count": 1,
   "metadata": {},
   "outputs": [
    {
     "name": "stdout",
     "output_type": "stream",
     "text": [
      "CAS('localhost', 5570, 'sasdemo01', protocol='cas', name='py-session-1', session='68e274d2-8105-0349-8850-32c4b610f20e')\n"
     ]
    }
   ],
   "source": [
    "import os\n",
    "import pandas as pd\n",
    "import numpy as np\n",
    "import xgboost\n",
    "from sklearn.base import TransformerMixin\n",
    "from sklearn.tree import DecisionTreeClassifier\n",
    "\n",
    "from sklearn import model_selection\n",
    "from sklearn.metrics import accuracy_score\n",
    "from swat import *\n",
    "from swat.render import render_html\n",
    "from pprint import pprint\n",
    "from matplotlib import pyplot as plt\n",
    "import pandas as pd\n",
    "import sys\n",
    "%matplotlib inline\n",
    "\n",
    "datadir='/home/sasdemo01/GitHub/Notebooks/Python_LifeCycle_Management/'\n",
    "\n",
    "cashost='localhost'\n",
    "casport=5570\n",
    "casauth='/home/sasdemo01/.authinfo'\n",
    "sess = CAS(cashost, casport, authinfo=casauth, caslib=\"public\")\n",
    "print(sess)"
   ]
  },
  {
   "cell_type": "code",
   "execution_count": 2,
   "metadata": {
    "collapsed": true
   },
   "outputs": [],
   "source": [
    "class DataFrameImputer(TransformerMixin):\n",
    "\n",
    "    def __init__(self):\n",
    "        \"\"\"Impute missing values.\n",
    "\n",
    "        Columns of dtype object are imputed with the most frequent value \n",
    "        in column.\n",
    "\n",
    "        Columns of other types are imputed with mean of column.\n",
    "\n",
    "        \"\"\"\n",
    "    def fit(self, X, y=None):\n",
    "\n",
    "        self.fill = pd.Series([X[c].value_counts().index[0]\n",
    "            if X[c].dtype == np.dtype('O') else X[c].mean() for c in X],\n",
    "            index=X.columns)\n",
    "\n",
    "        return self\n",
    "\n",
    "    def transform(self, X, y=None):\n",
    "        return X.fillna(self.fill)"
   ]
  },
  {
   "cell_type": "code",
   "execution_count": 3,
   "metadata": {
    "collapsed": true
   },
   "outputs": [],
   "source": [
    "data_sets = ['HMEQ_MONITOR_1', 'HMEQ_MONITOR_2', 'HMEQ_MONITOR_3', 'HMEQ_MONITOR_4', 'HMEQ_MONITOR_ALL',]\n",
    "\n",
    "targetvar = ['BAD']\n",
    "inputvars = ['LOAN', 'MORTDUE', 'VALUE', 'YOJ', 'DEROG', 'DELINQ', 'CLAGE', 'NINQ', 'CLNO', 'DEBTINC']\n",
    "\n",
    "# Dictionaries for different monitoring data sets (d) and to be scored parts X. \n",
    "d = {}\n",
    "X = {}\n",
    "for idx, ds in enumerate(data_sets):\n",
    "#    print(idx, ds)\n",
    "    d[idx] = pd.read_csv(datadir + ds + \".csv\", na_values=['NULL'])\n",
    "    Y = d[idx][targetvar]\n",
    "    X0 = d[idx][inputvars]\n",
    "    # impute the missing value\n",
    "    X[idx] = DataFrameImputer().fit_transform(X0)"
   ]
  },
  {
   "cell_type": "markdown",
   "metadata": {},
   "source": [
    "### Import the Python XGBOOST Model"
   ]
  },
  {
   "cell_type": "code",
   "execution_count": 4,
   "metadata": {
    "collapsed": true
   },
   "outputs": [],
   "source": [
    "import pickle\n",
    "loaded_model = pickle.load(open(datadir + \"PythonModelXGBOOST/train/xgboost_model_obj.pkl\", \"rb\"))"
   ]
  },
  {
   "cell_type": "markdown",
   "metadata": {},
   "source": [
    "### Score New Data in Python"
   ]
  },
  {
   "cell_type": "code",
   "execution_count": 5,
   "metadata": {
    "collapsed": true
   },
   "outputs": [],
   "source": [
    "ds_names={}\n",
    "for idx, ds in enumerate(data_sets):\n",
    "    y_pred=loaded_model.predict_proba(X[idx])\n",
    "    temp1=pd.DataFrame(y_pred,columns=[\"P_BAD0\",\"P_BAD1\"])\n",
    "    frames=[d[idx],temp1]\n",
    "    ds_names[ds] = pd.concat(frames,axis=1,ignore_index=False)"
   ]
  },
  {
   "cell_type": "code",
   "execution_count": 6,
   "metadata": {},
   "outputs": [
    {
     "name": "stdout",
     "output_type": "stream",
     "text": [
      "NOTE: Cloud Analytic Services made the uploaded file available as table HMEQ_MONITOR_1 in caslib Public.\n",
      "NOTE: The table HMEQ_MONITOR_1 has been created in caslib Public from binary data uploaded to Cloud Analytic Services.\n",
      "NOTE: Cloud Analytic Services made the uploaded file available as table HMEQ_MONITOR_2 in caslib Public.\n",
      "NOTE: The table HMEQ_MONITOR_2 has been created in caslib Public from binary data uploaded to Cloud Analytic Services.\n",
      "NOTE: Cloud Analytic Services made the uploaded file available as table HMEQ_MONITOR_3 in caslib Public.\n",
      "NOTE: The table HMEQ_MONITOR_3 has been created in caslib Public from binary data uploaded to Cloud Analytic Services.\n",
      "NOTE: Cloud Analytic Services made the uploaded file available as table HMEQ_MONITOR_4 in caslib Public.\n",
      "NOTE: The table HMEQ_MONITOR_4 has been created in caslib Public from binary data uploaded to Cloud Analytic Services.\n",
      "NOTE: Cloud Analytic Services made the uploaded file available as table HMEQ_MONITOR_ALL in caslib Public.\n",
      "NOTE: The table HMEQ_MONITOR_ALL has been created in caslib Public from binary data uploaded to Cloud Analytic Services.\n"
     ]
    }
   ],
   "source": [
    "for idx, ds in enumerate(data_sets):\n",
    "    results = sess.table.tableExists(caslib=\"Public\", name=\"{}\".format(ds))\n",
    "#   Table not loaded yet\n",
    "    if(results.exists == 0):\n",
    "        sess.upload_frame(ds_names[ds],casout={\"caslib\":\"Public\",\"promote\":True, \"name\":\"{}\".format(ds)})"
   ]
  },
  {
   "cell_type": "code",
   "execution_count": 7,
   "metadata": {
    "collapsed": true
   },
   "outputs": [],
   "source": [
    "sess.terminate()"
   ]
  }
 ],
 "metadata": {
  "kernelspec": {
   "display_name": "Python 3",
   "language": "python",
   "name": "python3"
  },
  "language_info": {
   "codemirror_mode": {
    "name": "ipython",
    "version": 3
   },
   "file_extension": ".py",
   "mimetype": "text/x-python",
   "name": "python",
   "nbconvert_exporter": "python",
   "pygments_lexer": "ipython3",
   "version": "3.6.3"
  }
 },
 "nbformat": 4,
 "nbformat_minor": 2
}
